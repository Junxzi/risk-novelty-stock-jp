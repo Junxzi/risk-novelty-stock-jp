{
 "cells": [
  {
   "cell_type": "markdown",
   "id": "736f8d4b-387b-445a-b1dd-813a9fe801cb",
   "metadata": {},
   "source": [
    "# 株価データの取得と保存\n",
    "このノートブックでは、companiesテーブルに登録された企業のYahoo Financeティッカーを用いて株価データを取得し、PostgreSQLのstock_pricesテーブルに保存します。"
   ]
  },
  {
   "cell_type": "code",
   "execution_count": null,
   "id": "c171a16a-0252-4417-926a-c3a1b9c108d4",
   "metadata": {},
   "outputs": [],
   "source": [
    "## ライブラリのインポート"
   ]
  },
  {
   "cell_type": "code",
   "execution_count": 1,
   "id": "14dbeb8a-c557-4804-9965-3abf978abc5f",
   "metadata": {},
   "outputs": [],
   "source": [
    "import os\n",
    "from datetime import datetime\n",
    "import pandas as pd\n",
    "import yfinance as yf\n",
    "from sqlalchemy import create_engine, text\n",
    "from sqlalchemy.engine import URL"
   ]
  },
  {
   "cell_type": "markdown",
   "id": "3ac6b5ba-65c9-464c-9124-f70a1eb498dc",
   "metadata": {},
   "source": [
    "## データベースからティッカー一覧を取得"
   ]
  },
  {
   "cell_type": "code",
   "execution_count": 2,
   "id": "902638ae-5402-4e96-b112-01f4202a1d59",
   "metadata": {},
   "outputs": [
    {
     "name": "stdout",
     "output_type": "stream",
     "text": [
      "1264 tickers loaded (e.g. ['130A.T', '135A.T', '137A.T', '138A.T', '1401.T'])\n"
     ]
    }
   ],
   "source": [
    "# .envから接続情報を読み込み\n",
    "from dotenv import load_dotenv\n",
    "load_dotenv('../.env')\n",
    "\n",
    "# SQLAlchemy用の接続URLを作成\n",
    "database_url = URL.create(\n",
    "    drivername='postgresql+psycopg2',\n",
    "    username=os.getenv('POSTGRES_USER'),\n",
    "    password=os.getenv('POSTGRES_PASSWORD'),\n",
    "    host=os.getenv('POSTGRES_HOST', 'localhost'),\n",
    "    port=os.getenv('POSTGRES_PORT', '5432'),\n",
    "    database=os.getenv('POSTGRES_DB'),\n",
    ")\n",
    "engine = create_engine(database_url)\n",
    "\n",
    "# companiesテーブルから company_id と security_code を取得\n",
    "sql = \"\"\"\n",
    "    SELECT company_id, security_code\n",
    "    FROM companies\n",
    "    WHERE security_code IS NOT NULL\n",
    "\"\"\"\n",
    "df_companies = pd.read_sql(sql, engine)\n",
    "\n",
    "# Yahoo Finance用ティッカーを生成（先頭4桁 + '.T'）\n",
    "df_companies['yahoo_ticker'] = (\n",
    "    df_companies['security_code']\n",
    "      .astype(str)\n",
    "      .str.zfill(4)       # 万一3桁以下なら4桁にゼロ埋め\n",
    "      .str.slice(0, 4)    # 先頭4文字のみ\n",
    "      + '.T'\n",
    ")\n",
    "\n",
    "tickers = df_companies['yahoo_ticker'].tolist()\n",
    "print(f'{len(tickers)} tickers loaded (e.g. {tickers[:5]})')"
   ]
  },
  {
   "cell_type": "markdown",
   "id": "f96b15a1-fec0-49d9-86b9-6190eb01d80e",
   "metadata": {},
   "source": [
    "## yfinanceで株価データを取得"
   ]
  },
  {
   "cell_type": "code",
   "execution_count": null,
   "id": "9739867b-bf00-43ac-acaa-fea2dbe5d308",
   "metadata": {},
   "outputs": [],
   "source": [
    "import time\n",
    "import pandas as pd\n",
    "import yfinance as yf\n",
    "from datetime import datetime\n",
    "\n",
    "# --- 設定 ---\n",
    "start = \"2015-01-01\"\n",
    "end   = datetime.today().strftime(\"%Y-%m-%d\")\n",
    "max_retries   = 3\n",
    "sleep_seconds = 1\n",
    "\n",
    "all_data       = []\n",
    "failed_tickers = []\n",
    "\n",
    "def fetch_ticker_data(ticker: str) -> pd.DataFrame | None:\n",
    "    \"\"\"\n",
    "    単一ティッカーのデータを取得。\n",
    "    RateLimit (Too Many Requests) はリトライ、\n",
    "    その他のエラー・空データは即失敗扱い。\n",
    "    \"\"\"\n",
    "    for attempt in range(1, max_retries + 1):\n",
    "        try:\n",
    "            df = yf.download(\n",
    "                ticker,\n",
    "                start=start,\n",
    "                end=end,\n",
    "                threads=False,       # 単一ならスレッド不要\n",
    "                auto_adjust=False,   # Adj Close列も取得\n",
    "                progress=False\n",
    "            )\n",
    "            # データが何もない場合は失敗\n",
    "            if df.empty:\n",
    "                return None\n",
    "\n",
    "            df = df.reset_index()\n",
    "            df[\"ticker\"] = ticker\n",
    "            return df\n",
    "\n",
    "        except Exception as e:\n",
    "            msg = str(e)\n",
    "            # RateLimitエラー判定\n",
    "            if \"Rate limited\" in msg or \"Too Many Requests\" in msg:\n",
    "                print(f\"[RateLimit] {ticker} retry {attempt}/{max_retries}\")\n",
    "                time.sleep(sleep_seconds)\n",
    "                continue\n",
    "\n",
    "            # その他のエラーは即時失敗\n",
    "            print(f\"[Error] {ticker} -> {e}\")\n",
    "            break\n",
    "\n",
    "    # リトライ切れ、または空データ\n",
    "    return None\n",
    "\n",
    "# --- 全ティッカーをループ ---\n",
    "for ticker in tickers:\n",
    "    df_t = fetch_ticker_data(ticker)\n",
    "    if df_t is None:\n",
    "        failed_tickers.append(ticker)\n",
    "    else:\n",
    "        all_data.append(df_t)\n",
    "\n",
    "# --- 結果サマリ ---\n",
    "print(f\"✅ Success: {len(all_data)} / {len(tickers)} tickers\")\n",
    "print(f\"❌ Failed ({len(failed_tickers)}): {failed_tickers}\")\n",
    "\n",
    "if not all_data:\n",
    "    raise RuntimeError(\"No data downloaded: cannot build stock_df\")\n",
    "\n",
    "# --- DataFrame 結合 ---\n",
    "stock_df = pd.concat(all_data, ignore_index=True)\n",
    "print(\"✅ stock_df created:\", stock_df.shape)"
   ]
  },
  {
   "cell_type": "code",
   "execution_count": 3,
   "id": "6a469065-9884-4119-b466-a3651638b104",
   "metadata": {},
   "outputs": [
    {
     "name": "stderr",
     "output_type": "stream",
     "text": [
      "\n",
      "1 Failed download:\n",
      "['2427.T']: YFTzMissingError('possibly delisted; no timezone found')\n"
     ]
    },
    {
     "name": "stdout",
     "output_type": "stream",
     "text": [
      "Fetched 0 rows for 2427.T\n",
      "Empty DataFrame\n",
      "Columns: [(Adj Close, 2427.T), (Close, 2427.T), (High, 2427.T), (Low, 2427.T), (Open, 2427.T), (Volume, 2427.T)]\n",
      "Index: []\n",
      "Empty DataFrame\n",
      "Columns: [(Adj Close, 2427.T), (Close, 2427.T), (High, 2427.T), (Low, 2427.T), (Open, 2427.T), (Volume, 2427.T)]\n",
      "Index: []\n"
     ]
    }
   ],
   "source": [
    "# 単一ティッカー取得テスト\n",
    "import yfinance as yf\n",
    "from datetime import datetime\n",
    "\n",
    "# テストしたい銘柄コード（例：トヨタ自動車）\n",
    "test_ticker = \"2427.T\"\n",
    "\n",
    "# 取得期間（上場日以降 or 任意の開始日～今日まで）\n",
    "start_date = \"2015-01-01\"\n",
    "end_date   = datetime.today().strftime(\"%Y-%m-%d\")\n",
    "\n",
    "# データ取得\n",
    "df = yf.download(\n",
    "    test_ticker,\n",
    "    start=start_date,\n",
    "    end=end_date,\n",
    "    threads=False,       # 単一ならスレッド不要\n",
    "    auto_adjust=False,   # 調整前OHLCとAdj Closeが取れる\n",
    "    progress=False\n",
    ")\n",
    "\n",
    "# 結果確認\n",
    "print(f\"Fetched {len(df)} rows for {test_ticker}\")\n",
    "print(df.head())\n",
    "print(df.tail())"
   ]
  },
  {
   "cell_type": "code",
   "execution_count": null,
   "id": "651a4ef6-bf87-44f7-9b77-64a74470858e",
   "metadata": {},
   "outputs": [],
   "source": []
  }
 ],
 "metadata": {
  "kernelspec": {
   "display_name": "sotsuken (.venv)",
   "language": "python",
   "name": ".venv"
  },
  "language_info": {
   "codemirror_mode": {
    "name": "ipython",
    "version": 3
   },
   "file_extension": ".py",
   "mimetype": "text/x-python",
   "name": "python",
   "nbconvert_exporter": "python",
   "pygments_lexer": "ipython3",
   "version": "3.10.17"
  }
 },
 "nbformat": 4,
 "nbformat_minor": 5
}
