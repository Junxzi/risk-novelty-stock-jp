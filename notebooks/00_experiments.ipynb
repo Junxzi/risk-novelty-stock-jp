{
 "cells": [
  {
   "cell_type": "code",
   "execution_count": null,
   "id": "001a2cfc",
   "metadata": {},
   "outputs": [],
   "source": [
    "## EDINETコードリストを取得\n",
    "import sys\n",
    "import os\n",
    "\n",
    "os.chdir(os.path.abspath(\"..\"))\n",
    "sys.path.append(os.path.abspath(\"..\"))\n",
    "from scripts.data_fetcher import unzip_file\n",
    "\n",
    "unzip_file(\"data/raw/Edinetcode_20250625.zip\", \"data/raw\")"
   ]
  },
  {
   "cell_type": "code",
   "execution_count": null,
   "id": "a09585b5",
   "metadata": {},
   "outputs": [],
   "source": [
    "import pandas as pd\n",
    "\n",
    "edinet_code_df = pd.read_csv(\n",
    "    \"data/raw/EdinetcodeDlInfo.csv\", encoding=\"cp932\", skiprows=1\n",
    ")\n",
    "edinet_code_df.head()"
   ]
  },
  {
   "cell_type": "code",
   "execution_count": null,
   "id": "57409616",
   "metadata": {},
   "outputs": [],
   "source": [
    "import pandas as pd\n",
    "\n",
    "topix_df = pd.read_csv(\"data/raw/topixweight_j.csv\", encoding=\"shift_jis\")\n",
    "topix_df.head()"
   ]
  },
  {
   "cell_type": "code",
   "execution_count": null,
   "id": "f8131061",
   "metadata": {},
   "outputs": [],
   "source": [
    "topix_df[\n",
    "    (topix_df[\"ニューインデックス区分\"] == \"TOPIX Core30\")\n",
    "    | (topix_df[\"ニューインデックス区分\"] == \"TOPIX Large70\")\n",
    "    | (topix_df[\"ニューインデックス区分\"] == \"TOPIX Mid400\")\n",
    "]"
   ]
  },
  {
   "cell_type": "code",
   "execution_count": null,
   "id": "0cb2cdab",
   "metadata": {},
   "outputs": [],
   "source": [
    "edinet_code_df[edinet_code_df[\"証券コード\"] == \"99830\"]"
   ]
  },
  {
   "cell_type": "code",
   "execution_count": null,
   "id": "9d6748a3",
   "metadata": {},
   "outputs": [],
   "source": [
    "import requests\n",
    "import os\n",
    "import json\n",
    "\n",
    "REFRESH_TOKEN = os.getenv(\"JQUANTS_REFRESH_TOKEN\")\n",
    "r_post = requests.post(\n",
    "    f\"https://api.jquants.com/v1/token/auth_refresh?refreshtoken={REFRESH_TOKEN}\"\n",
    ")\n",
    "r_post.json()"
   ]
  },
  {
   "cell_type": "code",
   "execution_count": null,
   "id": "cd7cc4a4",
   "metadata": {},
   "outputs": [],
   "source": [
    "import requests\n",
    "import os\n",
    "import json\n",
    "\n",
    "idToken = os.getenv(\"JQUANTS_ID_TOKEN\")\n",
    "headers = {\"Authorization\": \"Bearer {}\".format(idToken)}"
   ]
  },
  {
   "cell_type": "code",
   "execution_count": null,
   "id": "3b7931bc",
   "metadata": {},
   "outputs": [],
   "source": []
  }
 ],
 "metadata": {
  "kernelspec": {
   "display_name": "sotsuken (.venv)",
   "language": "python",
   "name": ".venv"
  }
 },
 "nbformat": 4,
 "nbformat_minor": 5
}
