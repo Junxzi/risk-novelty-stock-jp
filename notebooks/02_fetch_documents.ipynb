{
 "cells": [
  {
   "cell_type": "code",
   "execution_count": null,
   "id": "391f5c60",
   "metadata": {},
   "outputs": [],
   "source": [
    "import sys\n",
    "import os\n",
    "\n",
    "os.chdir(os.path.abspath(\"..\"))\n",
    "sys.path.append(os.path.abspath(\"..\"))"
   ]
  },
  {
   "cell_type": "markdown",
   "id": "d8a7bbed",
   "metadata": {},
   "source": [
    "# EDINET APIで有価証券報告書を取得 → DB登録フロー\n",
    "\n",
    "以下のノートブックでは、\n",
    "1. 書類一覧 APIで提出書類一覧を取得\n",
    "2. 書類取得 APIでCSV/XBRL等をダウンロード\n",
    "3. ダウンロードしたファイルを展開し、パスを記録\n",
    "4. PostgreSQLへレコードを登録\n",
    "\n",
    "の一連を実装します。"
   ]
  },
  {
   "cell_type": "markdown",
   "id": "7673eb20",
   "metadata": {},
   "source": [
    "# Cell 1: ライブラリのインポート＆定数定義"
   ]
  },
  {
   "cell_type": "code",
   "execution_count": null,
   "id": "30998ebd",
   "metadata": {
    "lines_to_next_cell": 2
   },
   "outputs": [],
   "source": [
    "# Cell 1: ライブラリのインポートと設定\n",
    "import os\n",
    "import zipfile\n",
    "import logging\n",
    "from pathlib import Path\n",
    "\n",
    "import requests\n",
    "import pandas as pd\n",
    "from tqdm import tqdm\n",
    "from psycopg2.extras import execute_values\n",
    "\n",
    "from db.connection import get_connection  # あなたの connection.py を指すように\n",
    "\n",
    "# ロギング設定\n",
    "logging.basicConfig(\n",
    "    level=logging.INFO, format=\"%(asctime)s [%(levelname)s] %(message)s\"\n",
    ")\n",
    "\n",
    "# EDINET API のベース URL とキー\n",
    "API_KEY = os.getenv(\"EDINET_API_KEY\")\n",
    "BASE_URL = \"https://api.edinet-fsa.go.jp/api/v2\"\n",
    "SAVE_ROOT = Path(\"data/raw/edinet\")  # ZIP/CSV を展開するルート\n",
    "\n",
    "# 取得対象の書類タイプ（2:年次, 3:半期, 4:四半期）\n",
    "DOC_TYPES = [\"120\", \"130\", \"140\"]"
   ]
  },
  {
   "cell_type": "markdown",
   "id": "fcd9809d",
   "metadata": {
    "lines_to_next_cell": 2
   },
   "source": [
    "# Cell 2: EDINET API 呼び出し関数定義"
   ]
  },
  {
   "cell_type": "code",
   "execution_count": null,
   "id": "cf2a5367",
   "metadata": {},
   "outputs": [],
   "source": [
    "# Cell 2: 日付指定でメタデータを取得する関数\n",
    "def fetch_document_list_for_date(date: str, doc_type: str) -> pd.DataFrame:\n",
    "    \"\"\"\n",
    "    date (YYYY-MM-DD) + doc_type (文字列) で EDINET の documents.json を呼び、\n",
    "    'results' 部分を DataFrame で返す。見つからなければ空 DF。\n",
    "    \"\"\"\n",
    "    params = {\"date\": date, \"type\": doc_type, \"resultType\": 1}\n",
    "    headers = {\"X-EDINET-APIKEY\": API_KEY}\n",
    "    r = requests.get(f\"{BASE_URL}/documents.json\", params=params, headers=headers)\n",
    "    if r.status_code == 200:\n",
    "        js = r.json()\n",
    "        return pd.DataFrame(js.get(\"results\", []))\n",
    "    elif r.status_code == 204:\n",
    "        # No Content\n",
    "        return pd.DataFrame()\n",
    "    else:\n",
    "        r.raise_for_status()"
   ]
  },
  {
   "cell_type": "markdown",
   "id": "6ca57a19",
   "metadata": {},
   "source": [
    "# Cell 3: データベース登録用ユーティリティ＆テーブル読み込み"
   ]
  },
  {
   "cell_type": "code",
   "execution_count": null,
   "id": "1719348c",
   "metadata": {},
   "outputs": [],
   "source": [
    "# Cell 3: 期間（日付）をループしてメタデータを収集\n",
    "start = \"2017-01-01\"\n",
    "end = \"2025-12-31\"\n",
    "\n",
    "all_docs = []\n",
    "dates = pd.date_range(start, end, freq=\"D\").astype(str)\n",
    "for date in tqdm(dates, desc=\"Fetching EDINET\"):\n",
    "    for t in DOC_TYPES:\n",
    "        df = fetch_document_list_for_date(date, t)\n",
    "        if not df.empty:\n",
    "            df[\"doc_type\"] = t\n",
    "            all_docs.append(df)\n",
    "\n",
    "# マージ前の合計\n",
    "logging.info(f\"▶︎ 取得メタデータ日数: {len(all_docs)} chunks\")"
   ]
  },
  {
   "cell_type": "markdown",
   "id": "0cfc7bcd",
   "metadata": {},
   "source": [
    "# Cell 4: 年次＋四半期レポートを日次ループでまとめて取得→登録"
   ]
  },
  {
   "cell_type": "code",
   "execution_count": null,
   "id": "c706a294",
   "metadata": {},
   "outputs": [],
   "source": [
    "# Cell 4: 取得結果をまとめて重複除去\n",
    "if not all_docs:\n",
    "    raise RuntimeError(\"EDINET メタデータが一件も取得できませんでした。\")\n",
    "df_all = pd.concat(all_docs, ignore_index=True)\n",
    "logging.info(f\"▶︎ マージ後の総件数: {len(df_all):,}\")\n",
    "\n",
    "# docID で重複を除く\n",
    "df_all = df_all.drop_duplicates(subset=\"docID\")\n",
    "logging.info(f\"▶︎ docID 一意化後件数: {len(df_all):,}\")\n",
    "df_all.head(3)"
   ]
  },
  {
   "cell_type": "code",
   "execution_count": null,
   "id": "7076328a",
   "metadata": {},
   "outputs": [],
   "source": [
    "# Cell 5: companies マスタと突合、CSV をダウンロードして edinet_filings に登録\n",
    "def download_csv_and_unpack(doc_id: str, save_dir: Path) -> Path:\n",
    "    \"\"\"ZIP 取得 → 解凍 → 最初の CSV ファイルパスを返却\"\"\"\n",
    "    save_dir.mkdir(parents=True, exist_ok=True)\n",
    "    zippath = save_dir / f\"{doc_id}.zip\"\n",
    "    r = requests.get(\n",
    "        f\"{BASE_URL}/documents/{doc_id}\",\n",
    "        params={\"type\": 5},\n",
    "        headers={\"X-EDINET-APIKEY\": API_KEY},\n",
    "        stream=True,\n",
    "    )\n",
    "    r.raise_for_status()\n",
    "    with open(zippath, \"wb\") as f:\n",
    "        for chunk in r.iter_content(1024):\n",
    "            f.write(chunk)\n",
    "    with zipfile.ZipFile(zippath) as z:\n",
    "        members = [n for n in z.namelist() if n.lower().endswith(\".csv\")]\n",
    "        z.extractall(save_dir, members)\n",
    "        return save_dir / members[0]\n",
    "\n",
    "\n",
    "# DB 接続して companies を読込\n",
    "conn = get_connection()\n",
    "cur = conn.cursor()\n",
    "df_comp = pd.read_sql(\"SELECT company_id, edinet_code FROM companies\", conn)\n",
    "\n",
    "records = []\n",
    "for _, row in tqdm(df_all.iterrows(), total=len(df_all), desc=\"Download & Prepare\"):\n",
    "    doc_id = row[\"docID\"]\n",
    "    edc = row[\"edinetCode\"]\n",
    "    # マスタにある企業のみ処理\n",
    "    match = df_comp[df_comp[\"edinet_code\"] == edc]\n",
    "    if match.empty:\n",
    "        continue\n",
    "    cid = match[\"company_id\"].iloc[0]\n",
    "    try:\n",
    "        csv_path = download_csv_and_unpack(\n",
    "            doc_id, SAVE_ROOT / row[\"submitDate\"][:4] / edc\n",
    "        )\n",
    "    except Exception as e:\n",
    "        logging.warning(f\"ZIP 展開失敗: {doc_id} / {e}\")\n",
    "        continue\n",
    "    records.append(\n",
    "        (\n",
    "            cid,\n",
    "            edc,\n",
    "            doc_id,\n",
    "            row[\"docTypeCode\"],  # メタデータ中の書類コード\n",
    "            row[\"submitDate\"],\n",
    "            row[\"docDescription\"],\n",
    "            str(csv_path),\n",
    "        )\n",
    "    )\n",
    "\n",
    "# INSERT\n",
    "execute_values(\n",
    "    cur,\n",
    "    \"\"\"\n",
    "    INSERT INTO edinet_filings\n",
    "      (company_id, edinet_code, doc_id, doc_type_code, submit_date, description, csv_path)\n",
    "    VALUES %s\n",
    "    ON CONFLICT (company_id, doc_id) DO NOTHING;\n",
    "\"\"\",\n",
    "    records,\n",
    ")\n",
    "\n",
    "conn.commit()\n",
    "cur.close()\n",
    "conn.close()\n",
    "logging.info(f\"✅ 登録完了: {len(records):,} 件\")"
   ]
  }
 ],
 "metadata": {
  "kernelspec": {
   "display_name": "sotsuken (.venv)",
   "language": "python",
   "name": ".venv"
  }
 },
 "nbformat": 4,
 "nbformat_minor": 5
}
